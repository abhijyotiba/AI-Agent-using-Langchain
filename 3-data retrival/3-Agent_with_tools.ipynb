{
 "cells": [
  {
   "cell_type": "markdown",
   "id": "704c4500",
   "metadata": {},
   "source": [
    "# **Tool 1 - wikipedia**"
   ]
  },
  {
   "cell_type": "code",
   "execution_count": 4,
   "id": "2f0027f9",
   "metadata": {},
   "outputs": [
    {
     "data": {
      "text/plain": [
       "'Page: Python (programming language)\\nSummary: Python is a high-level, general-purpose programming language. Its design philosophy emphasizes code readability with the use of significant indentation.\\nPython is dynamically type-checked and garbage-collected. It supports multiple programming paradigms, including structured (particularly procedural), object-oriented and functional programming. It is often described as a \"batteries included\" language due to its comprehensive standard library.\\nGuido van Rossum began working on Python in the late 1980s as a successor to the ABC programming language, and he first released it in 1991 as Python 0.9.0. Python 2.0 was released in 2000. Python 3.0, released in 2008, was a major revision not completely backward-compatible with earlier versions. Python 2.7.18, released in 2020, was the last release of Python 2.\\nPython consistently ranks as one of the most popular programming languages, and it has gained widespread use in the machine learning community.\\n\\n\\n\\nPage: Monty Python\\nSummary: Monty Python, also known as the Pythons, were a British comedy troupe formed in 1969 consisting of Graham Chapman, John Cleese, Terry Gilliam, Eric Idle, Terry Jones and Michael Palin. The group came to prominence for the sketch comedy series Monty Python\\'s Flying Circus, which aired on the BBC from 1969 to 1974. Their work then developed into a larger collection that included live shows, films, albums, books, and musicals; their influence on comedy has been compared to the Beatles\\' influence on music. Their sketch show has been called \"an important moment in the evolution of television comedy\".\\nMonty Python\\'s Flying Circus was loosely structured as a sketch show, but its innovative stream-of-consciousness approach and Gilliam\\'s animation skills pushed the boundaries of what was acceptable in style and content. A self-contained comedy unit, the Pythons had creative control that allowed them to experiment with form and content, discarding rules of television comedy. They followed their television work by making  the films Monty Python and the Holy Grail (1975), Life of Brian (1979), and The Meaning of Life (1983). Their influence on British comedy has been apparent for years, while it has coloured the work of the early editions of Saturday Night Live through to absurdist trends in television comedy.\\nAt the 41st British Academy Film Awards in 1988, Monty Python received the BAFTA Award for Outstanding British Contribution to Cinema. In 1998, they were awarded the AFI Star Award by the American Film Institute. Holy Grail and Life of Brian are frequently ranked on lists of the greatest comedy films. A 2005 poll asked more than 300 comedians, comedy writers, producers, and directors to name the greatest comedians of all time, and half of Monty Python\\'s members made the top 50.\\n\\nPage: Anaconda (Python distribution)\\nSummary: Anaconda is an open source  data science and artificial intelligence distribution platform for Python and R programming languages. Developed by Anaconda, Inc.,  an American company founded in 2012, the platform is used to develop and manage data science and AI projects. In 2024, Anaconda Inc. has about 300 employees and 45 million users.\\n\\n'"
      ]
     },
     "execution_count": 4,
     "metadata": {},
     "output_type": "execute_result"
    }
   ],
   "source": [
    "from langchain_community.tools import WikipediaQueryRun\n",
    "from langchain_community.utilities import WikipediaAPIWrapper\n",
    "\n",
    "wikipedia_wrapper = WikipediaAPIWrapper()                       # wikipediaAPIWrapper - Just fetch Wikipedia results in your code\n",
    "tool1= WikipediaQueryRun(api_wrapper=wikipedia_wrapper)         # WikipediaQueryRun (tool) - Give an agent the ability to search Wikipedia\n",
    "\n",
    "search = tool1.invoke(\"what is python\")\n",
    "search\n"
   ]
  },
  {
   "cell_type": "markdown",
   "id": "b3ff3db4",
   "metadata": {},
   "source": [
    "# **Tool 2 - arxiv**"
   ]
  },
  {
   "cell_type": "code",
   "execution_count": 7,
   "id": "aab3ba28",
   "metadata": {},
   "outputs": [
    {
     "data": {
      "text/plain": [
       "\"Published: 2023-06-14\\nTitle: Characterizing Bugs in Python and R Data Analytics Programs\\nAuthors: Shibbir Ahmed, Mohammad Wardat, Hamid Bagheri, Breno Dantas Cruz, Hridesh Rajan\\nSummary: R and Python are among the most popular languages used in many critical data\\nanalytics tasks. However, we still do not fully understand the capabilities of\\nthese two languages w.r.t. bugs encountered in data analytics tasks. What type\\nof bugs are common? What are the main root causes? What is the relation between\\nbugs and root causes? How to mitigate these bugs? We present a comprehensive\\nstudy of 5,068 Stack Overflow posts, 1,800 bug fix commits from GitHub\\nrepositories, and several GitHub issues of the most used libraries to\\nunderstand bugs in R and Python. Our key findings include: while both R and\\nPython have bugs due to inexperience with data analysis, Python see\\nsignificantly larger data preprocessing bugs compared to R. Developers\\nexperience significantly more data flow bugs in R because intermediate results\\nare often implicit. We also found changes and bugs in packages and libraries\\ncause more bugs in R compared to Python while package or library misselection\\nand conflicts cause more bugs in Python than R. While R has a slightly higher\\nreadability barrier for data analysts, the statistical power of R leads to a\\nless number of bad performance bugs. In terms of data visualization, R packages\\nhave significantly more bugs than Python libraries. We also identified a strong\\ncorrelation between comparable packages in R and Python despite their\\nlinguistic and methodological differences. Lastly, we contribute a large\\ndataset of manually verified R and Python bugs.\\n\\nPublished: 2020-04-14\\nTitle: An Analysis of Python's Topics, Trends, and Technologies Through Mining Stack Overflow Discussions\\nAuthors: Hamed Tahmooresi, Abbas Heydarnoori, Alireza Aghamohammadi\\nSummary: Python is a popular, widely used, and general-purpose programming language.\\nIn spite of its ever-growing community, researchers have not performed much\\nanalysis on Python's topics, trends, and technologies which provides insights\\nfor developers about Python community trends and main issues. In this article,\\nwe examine the main topics related to this language being discussed by\\ndevelopers on one of the most popular Q\\\\&A websites, Stack Overflow, as well as\\ntemporal trends through mining 2461876 posts. To be more useful for the\\nsoftware engineers, we study what Python provides as the alternative to popular\\ntechnologies offered by common programming languages like Java. Our results\\nindicate that discussions about Python standard features, web programming, and\\nscientific programming. Programming in areas such as mathematics, data science,\\nstatistics, machine learning, natural language processing (NLP), and so forth.\\nare the most popular areas in the Python community. At the same time, areas\\nrelated to scientific programming are steadily receiving more attention from\\nthe Python developers.\\n\\nPublished: 2022-09-05\\nTitle: An Exploratory Study on the Predominant Programming Paradigms in Python Code\\nAuthors: Robert Dyer, Jigyasa Chauhan\\nSummary: Python is a multi-paradigm programming language that fully supports\\nobject-oriented (OO) programming. The language allows writing code in a\\nnon-procedural imperative manner, using procedures, using classes, or in a\\nfunctional style. To date, no one has studied what paradigm(s), if any, are\\npredominant in Python code and projects. In this work, we first define a\\ntechnique to classify Python files into predominant paradigm(s). We then\\nautomate our approach and evaluate it against human judgements, showing over\\n80% agreement. We then analyze over 100k open-source Python projects,\\nautomatically classifying each source file and investigating the paradigm\\ndistributions. The results indicate Python developers tend to heavily favor OO\\nfeatures. We also observed a positive correlation between OO and procedural\\nparadigms and the size of the project. And despite\""
      ]
     },
     "execution_count": 7,
     "metadata": {},
     "output_type": "execute_result"
    }
   ],
   "source": [
    "from langchain_community.utilities import ArxivAPIWrapper\n",
    "from langchain_community.tools import ArxivQueryRun\n",
    "\n",
    "arxiv_wrapper = ArxivAPIWrapper()\n",
    "tool2= ArxivQueryRun(api_wrapper=arxiv_wrapper)\n",
    "\n",
    "search = tool2.invoke(\"what is python\")\n",
    "search"
   ]
  },
  {
   "cell_type": "markdown",
   "id": "3434dc6b",
   "metadata": {},
   "source": [
    "# **Tool 3 - VectorDB**"
   ]
  },
  {
   "cell_type": "code",
   "execution_count": 25,
   "id": "bd6b548d",
   "metadata": {},
   "outputs": [],
   "source": [
    "from langchain_community.document_loaders import WebBaseLoader\n",
    "from langchain.text_splitter import RecursiveCharacterTextSplitter\n",
    "from langchain_ollama import OllamaEmbeddings\n",
    "from langchain_community.vectorstores import FAISS\n",
    "\n",
    "web_loader =WebBaseLoader(\"https://python.langchain.com/docs/introduction/\")\n",
    "web_docs = web_loader.load()\n",
    "\n",
    "text_splitter = RecursiveCharacterTextSplitter()\n",
    "web_chunks = text_splitter.split_documents(web_docs)\n",
    "\n",
    "#web_chunks = RecursiveCharacterTextSplitter().split_documents(web_docs)\n",
    "\n",
    "embedding_model = OllamaEmbeddings(model=\"nomic-embed-text:latest\")\n",
    "\n",
    "DB = FAISS.from_documents(web_chunks,embedding=embedding_model)\n",
    "\n",
    "retriver = DB.as_retriever()"
   ]
  },
  {
   "cell_type": "code",
   "execution_count": 60,
   "id": "d5ad5c7d",
   "metadata": {},
   "outputs": [
    {
     "data": {
      "text/plain": [
       "Tool(name='Langchain_search', description='For any question asked regarding the langchain use this tool ', args_schema=<class 'langchain_core.tools.retriever.RetrieverInput'>, func=functools.partial(<function _get_relevant_documents at 0x0000019227850EA0>, retriever=VectorStoreRetriever(tags=['FAISS', 'OllamaEmbeddings'], vectorstore=<langchain_community.vectorstores.faiss.FAISS object at 0x00000192B199F470>, search_kwargs={}), document_prompt=PromptTemplate(input_variables=['page_content'], input_types={}, partial_variables={}, template='{page_content}'), document_separator='\\n\\n', response_format='content'), coroutine=functools.partial(<function _aget_relevant_documents at 0x0000019227850FE0>, retriever=VectorStoreRetriever(tags=['FAISS', 'OllamaEmbeddings'], vectorstore=<langchain_community.vectorstores.faiss.FAISS object at 0x00000192B199F470>, search_kwargs={}), document_prompt=PromptTemplate(input_variables=['page_content'], input_types={}, partial_variables={}, template='{page_content}'), document_separator='\\n\\n', response_format='content'))"
      ]
     },
     "execution_count": 60,
     "metadata": {},
     "output_type": "execute_result"
    }
   ],
   "source": [
    "from langchain.tools.retriever import create_retriever_tool\n",
    "\n",
    "tool3 = create_retriever_tool(retriever=retriver , name=\"Langchain_search\",\n",
    "                              description=\"For any question asked regarding the langchain use this tool \")\n",
    "\n",
    "tool3"
   ]
  },
  {
   "cell_type": "markdown",
   "id": "781848b7",
   "metadata": {},
   "source": [
    "# **Load LLM**"
   ]
  },
  {
   "cell_type": "code",
   "execution_count": 54,
   "id": "0224fa4b",
   "metadata": {},
   "outputs": [],
   "source": [
    "from langchain.prompts import ChatPromptTemplate , MessagesPlaceholder\n",
    "from langchain_core.prompts import SystemMessagePromptTemplate, HumanMessagePromptTemplate\n",
    "\n",
    "\n",
    "promptTemplate = ChatPromptTemplate.from_messages([\n",
    "    SystemMessagePromptTemplate.from_template(\n",
    "        \"You are an AI assistant with tools integrated to answer the query. \"\n",
    "        \"Use the tools provided to fetch relevant information before giving a generalized answer. \"\n",
    "        \"Make sure the response is accurate and backed by facts and relevant sources.\"\n",
    "    ),\n",
    "    HumanMessagePromptTemplate.from_template(\"{input}\"),\n",
    "    MessagesPlaceholder(variable_name=\"agent_scratchpad\"),  # Required for tool use\n",
    "])\n",
    "\n",
    "\n"
   ]
  },
  {
   "cell_type": "code",
   "execution_count": 61,
   "id": "dede10c6",
   "metadata": {},
   "outputs": [],
   "source": [
    "from langchain_openai import ChatOpenAI\n",
    "\n",
    "llm = ChatOpenAI(model=\"openai/gpt-4o-mini\",\n",
    "                 base_url=\"https://openrouter.ai/api/v1\",\n",
    "                 api_key=\"sk-or-v1-0ac87964a3d91baxxxxxxxxxxe020b56e4181fb7cf0ab8xxxxxxxxxxf8d200c7\")\n",
    "\n",
    "\n",
    "tools= [tool1 ,tool2,tool3 ]\n",
    "\n"
   ]
  },
  {
   "cell_type": "markdown",
   "id": "9b384184",
   "metadata": {},
   "source": [
    "# **Create Agent with tools**"
   ]
  },
  {
   "cell_type": "code",
   "execution_count": 62,
   "id": "cbd93054",
   "metadata": {},
   "outputs": [],
   "source": [
    "from langchain.agents  import create_openai_tools_agent\n",
    "\n",
    "Agent = create_openai_tools_agent(llm,tools,promptTemplate)"
   ]
  },
  {
   "cell_type": "markdown",
   "id": "be452712",
   "metadata": {},
   "source": [
    "# **Create Agent Executor**"
   ]
  },
  {
   "cell_type": "code",
   "execution_count": 71,
   "id": "5b55b2c1",
   "metadata": {},
   "outputs": [
    {
     "name": "stdout",
     "output_type": "stream",
     "text": [
      "\n",
      "\n",
      "\u001b[1m> Entering new AgentExecutor chain...\u001b[0m\n",
      "\u001b[32;1m\u001b[1;3m\n",
      "Invoking: `arxiv` with `{'query': '1605'}`\n",
      "\n",
      "\n",
      "\u001b[0m\u001b[32;1m\u001b[1;3m\n",
      "Invoking: `arxiv` with `{'query': '1605'}`\n",
      "\n",
      "\n",
      "\u001b[0m\u001b[33;1m\u001b[1;3mPublished: 2023-10-31\n",
      "Title: CCD UBV and Gaia DR3 Analyses of Open Clusters King 6 and NGC 1605\n",
      "Authors: S. Gokmen, Z. Eker, T. Yontan, S. Bilir, T. Ak, S. Ak, T. Banks, A. Sarajedini\n",
      "Summary: A detailed analysis of ground-based CCD UBV photometry and space-based Gaia\n",
      "Data Release 3 (DR3) data for the open clusters King 6 and NGC 1605 was\n",
      "performed. Using the pyUPMASK algorithm on Gaia astrometric data to estimate\n",
      "cluster membership probabilities, we have identified 112 stars in King 6 and\n",
      "160 stars in NGC 1605 as the statistically most likely members of each cluster.\n",
      "We calculated reddening and metallicity separately using UBV two-color diagrams\n",
      "to estimate parameter values via independent methods. The color excess $E(B-V)$\n",
      "and photometric metallicity [Fe/H] for King 6 are $0.515 \\pm 0.030$ mag and\n",
      "$0.02 \\pm 0.20$ dex, respectively. For NGC 1605, they are $0.840 \\pm 0.054$ mag\n",
      "and $0.01 \\pm 0.20$ dex. With reddening and metallicity kept constant, we have\n",
      "estimated the distances and cluster ages by fitting PARSEC isochrones to\n",
      "color-magnitude diagrams based on the Gaia and UBV data. Photometric distances\n",
      "are 723 $\\pm$ 34 pc for King 6 and 3054 $\\pm$ 243 pc for NGC 1605. The cluster\n",
      "ages are $200 \\pm 20$ Myr and $400 \\pm 50$ Myr for King 6 and NGC 1605,\n",
      "respectively. Mass function slopes were found to be 1.29 $\\pm$ 0.18 and 1.63\n",
      "$\\pm$ 0.36 for King 6 and NGC 1605, respectively. These values are in good\n",
      "agreement with the value of Salpeter (1955). The relaxation times were\n",
      "estimated as 5.8 Myr for King 6 and 60 Myr for NGC 1605. This indicates that\n",
      "both clusters are dynamically relaxed since these times are less than the\n",
      "estimated cluster ages. Galactic orbit analysis shows that both clusters formed\n",
      "outside the solar circle and are members of the young thin-disc population.\n",
      "\n",
      "Published: 2016-05-01\n",
      "Title: On the number of cyclic subgroup in finite groups\n",
      "Authors: Wei Zhou\n",
      "Summary: We study the number of cylic subgroups in finite groups and get that $G$ has\n",
      "$|G|-3$ cyclic subgroups if and only if $G \\cong D_{10}$ or $Q_8$.\n",
      "\n",
      "Published: 2016-05-02\n",
      "Title: On the Roots of Characteristic Equations of Delay Differential Systems\n",
      "Authors: Jia-Yuan Dai\n",
      "Summary: We prove that characteristic equations of certain types of delay differential\n",
      "systems, under some mild conditions on their coefficients, can possess\n",
      "infinitely many complex roots.\u001b[0m\u001b[33;1m\u001b[1;3mPublished: 2023-10-31\n",
      "Title: CCD UBV and Gaia DR3 Analyses of Open Clusters King 6 and NGC 1605\n",
      "Authors: S. Gokmen, Z. Eker, T. Yontan, S. Bilir, T. Ak, S. Ak, T. Banks, A. Sarajedini\n",
      "Summary: A detailed analysis of ground-based CCD UBV photometry and space-based Gaia\n",
      "Data Release 3 (DR3) data for the open clusters King 6 and NGC 1605 was\n",
      "performed. Using the pyUPMASK algorithm on Gaia astrometric data to estimate\n",
      "cluster membership probabilities, we have identified 112 stars in King 6 and\n",
      "160 stars in NGC 1605 as the statistically most likely members of each cluster.\n",
      "We calculated reddening and metallicity separately using UBV two-color diagrams\n",
      "to estimate parameter values via independent methods. The color excess $E(B-V)$\n",
      "and photometric metallicity [Fe/H] for King 6 are $0.515 \\pm 0.030$ mag and\n",
      "$0.02 \\pm 0.20$ dex, respectively. For NGC 1605, they are $0.840 \\pm 0.054$ mag\n",
      "and $0.01 \\pm 0.20$ dex. With reddening and metallicity kept constant, we have\n",
      "estimated the distances and cluster ages by fitting PARSEC isochrones to\n",
      "color-magnitude diagrams based on the Gaia and UBV data. Photometric distances\n",
      "are 723 $\\pm$ 34 pc for King 6 and 3054 $\\pm$ 243 pc for NGC 1605. The cluster\n",
      "ages are $200 \\pm 20$ Myr and $400 \\pm 50$ Myr for King 6 and NGC 1605,\n",
      "respectively. Mass function slopes were found to be 1.29 $\\pm$ 0.18 and 1.63\n",
      "$\\pm$ 0.36 for King 6 and NGC 1605, respectively. These values are in good\n",
      "agreement with the value of Salpeter (1955). The relaxation times were\n",
      "estimated as 5.8 Myr for King 6 and 60 Myr for NGC 1605. This indicates that\n",
      "both clusters are dynamically relaxed since these times are less than the\n",
      "estimated cluster ages. Galactic orbit analysis shows that both clusters formed\n",
      "outside the solar circle and are members of the young thin-disc population.\n",
      "\n",
      "Published: 2016-05-01\n",
      "Title: On the number of cyclic subgroup in finite groups\n",
      "Authors: Wei Zhou\n",
      "Summary: We study the number of cylic subgroups in finite groups and get that $G$ has\n",
      "$|G|-3$ cyclic subgroups if and only if $G \\cong D_{10}$ or $Q_8$.\n",
      "\n",
      "Published: 2016-05-02\n",
      "Title: On the Roots of Characteristic Equations of Delay Differential Systems\n",
      "Authors: Jia-Yuan Dai\n",
      "Summary: We prove that characteristic equations of certain types of delay differential\n",
      "systems, under some mild conditions on their coefficients, can possess\n",
      "infinitely many complex roots.\u001b[0m\u001b[32;1m\u001b[1;3mThe paper you are referring to in arXiv with the identifier \"1605\" is actually a collection of multiple papers published in May 2016. Here's a summary of notable ones:\n",
      "\n",
      "1. **Title:** On the number of cyclic subgroups in finite groups\n",
      "   - **Authors:** Wei Zhou\n",
      "   - **Summary:** This paper studies the number of cyclic subgroups in finite groups and concludes that a group \\( G \\) has \\( |G|-3 \\) cyclic subgroups if and only if \\( G \\) is isomorphic to either the dihedral group \\( D_{10} \\) or the quaternion group \\( Q_8 \\).\n",
      "\n",
      "2. **Title:** On the Roots of Characteristic Equations of Delay Differential Systems\n",
      "   - **Authors:** Jia-Yuan Dai\n",
      "   - **Summary:** This paper proves that the characteristic equations of specific types of delay differential systems can possess infinitely many complex roots under certain mild conditions on their coefficients.\n",
      "\n",
      "Additionally, a more recent paper published in October 2023 investigates two open clusters, King 6 and NGC 1605, using ground-based CCD UBV photometry and Gaia Data Release 3 data. It provides insights into cluster membership, distances, ages, and other astrophysical properties.\n",
      "\n",
      "If you need more detailed information about a specific paper, feel free to ask!\u001b[0m\n",
      "\n",
      "\u001b[1m> Finished chain.\u001b[0m\n",
      "\u001b[32;1m\u001b[1;3mThe paper you are referring to in arXiv with the identifier \"1605\" is actually a collection of multiple papers published in May 2016. Here's a summary of notable ones:\n",
      "\n",
      "1. **Title:** On the number of cyclic subgroups in finite groups\n",
      "   - **Authors:** Wei Zhou\n",
      "   - **Summary:** This paper studies the number of cyclic subgroups in finite groups and concludes that a group \\( G \\) has \\( |G|-3 \\) cyclic subgroups if and only if \\( G \\) is isomorphic to either the dihedral group \\( D_{10} \\) or the quaternion group \\( Q_8 \\).\n",
      "\n",
      "2. **Title:** On the Roots of Characteristic Equations of Delay Differential Systems\n",
      "   - **Authors:** Jia-Yuan Dai\n",
      "   - **Summary:** This paper proves that the characteristic equations of specific types of delay differential systems can possess infinitely many complex roots under certain mild conditions on their coefficients.\n",
      "\n",
      "Additionally, a more recent paper published in October 2023 investigates two open clusters, King 6 and NGC 1605, using ground-based CCD UBV photometry and Gaia Data Release 3 data. It provides insights into cluster membership, distances, ages, and other astrophysical properties.\n",
      "\n",
      "If you need more detailed information about a specific paper, feel free to ask!\u001b[0m\n",
      "\n",
      "\u001b[1m> Finished chain.\u001b[0m\n"
     ]
    }
   ],
   "source": [
    "from langchain.agents import AgentExecutor\n",
    "\n",
    "excecutor = AgentExecutor.from_agent_and_tools(Agent,tools,verbose=True)\n",
    "\n",
    "result=excecutor.invoke({\"input\":\"what is the paper 1605 is about?\"})"
   ]
  },
  {
   "cell_type": "markdown",
   "id": "ae54ea46",
   "metadata": {},
   "source": []
  },
  {
   "cell_type": "code",
   "execution_count": 72,
   "id": "5978d4a2",
   "metadata": {},
   "outputs": [
    {
     "data": {
      "text/plain": [
       "'The paper you are referring to in arXiv with the identifier \"1605\" is actually a collection of multiple papers published in May 2016. Here\\'s a summary of notable ones:\\n\\n1. **Title:** On the number of cyclic subgroups in finite groups\\n   - **Authors:** Wei Zhou\\n   - **Summary:** This paper studies the number of cyclic subgroups in finite groups and concludes that a group \\\\( G \\\\) has \\\\( |G|-3 \\\\) cyclic subgroups if and only if \\\\( G \\\\) is isomorphic to either the dihedral group \\\\( D_{10} \\\\) or the quaternion group \\\\( Q_8 \\\\).\\n\\n2. **Title:** On the Roots of Characteristic Equations of Delay Differential Systems\\n   - **Authors:** Jia-Yuan Dai\\n   - **Summary:** This paper proves that the characteristic equations of specific types of delay differential systems can possess infinitely many complex roots under certain mild conditions on their coefficients.\\n\\nAdditionally, a more recent paper published in October 2023 investigates two open clusters, King 6 and NGC 1605, using ground-based CCD UBV photometry and Gaia Data Release 3 data. It provides insights into cluster membership, distances, ages, and other astrophysical properties.\\n\\nIf you need more detailed information about a specific paper, feel free to ask!'"
      ]
     },
     "execution_count": 72,
     "metadata": {},
     "output_type": "execute_result"
    }
   ],
   "source": [
    "result[\"output\"]"
   ]
  },
  {
   "cell_type": "code",
   "execution_count": null,
   "id": "1868b8a2",
   "metadata": {},
   "outputs": [],
   "source": []
  }
 ],
 "metadata": {
  "kernelspec": {
   "display_name": "venv",
   "language": "python",
   "name": "python3"
  },
  "language_info": {
   "codemirror_mode": {
    "name": "ipython",
    "version": 3
   },
   "file_extension": ".py",
   "mimetype": "text/x-python",
   "name": "python",
   "nbconvert_exporter": "python",
   "pygments_lexer": "ipython3",
   "version": "3.12.0"
  }
 },
 "nbformat": 4,
 "nbformat_minor": 5
}
