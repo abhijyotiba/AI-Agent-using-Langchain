{
 "cells": [
  {
   "cell_type": "markdown",
   "id": "548b2c58",
   "metadata": {},
   "source": [
    "# Retrival chain\n"
   ]
  },
  {
   "cell_type": "code",
   "execution_count": null,
   "id": "12c6db0e",
   "metadata": {},
   "outputs": [
    {
     "data": {
      "text/plain": [
       "11"
      ]
     },
     "execution_count": 6,
     "metadata": {},
     "output_type": "execute_result"
    }
   ],
   "source": [
    "from langchain_community.document_loaders import PyPDFLoader\n",
    "\n",
    "pdf_loader =PyPDFLoader(file_path=\"D:/Langchain Tutorial/data retrival/attention-is-all-you-need-Paper.pdf\")\n",
    "pdf_docs =pdf_loader.load()\n",
    "pdf_docs"
   ]
  },
  {
   "cell_type": "code",
   "execution_count": 11,
   "id": "9699dd62",
   "metadata": {},
   "outputs": [
    {
     "data": {
      "text/plain": [
       "86"
      ]
     },
     "execution_count": 11,
     "metadata": {},
     "output_type": "execute_result"
    }
   ],
   "source": [
    "from langchain.text_splitter import RecursiveCharacterTextSplitter\n",
    "\n",
    "text_splitter = RecursiveCharacterTextSplitter(chunk_size=500,chunk_overlap=100)\n",
    "\n",
    "chunks = text_splitter.split_documents(pdf_docs)\n",
    "len(chunks)"
   ]
  },
  {
   "cell_type": "code",
   "execution_count": 20,
   "id": "b25114e8",
   "metadata": {},
   "outputs": [
    {
     "data": {
      "text/plain": [
       "<langchain_community.vectorstores.faiss.FAISS at 0x1a99b219d00>"
      ]
     },
     "execution_count": 20,
     "metadata": {},
     "output_type": "execute_result"
    }
   ],
   "source": [
    "from langchain.vectorstores import FAISS\n",
    "from langchain_ollama import OllamaEmbeddings\n",
    "\n",
    "embedder = OllamaEmbeddings(model=\"nomic-embed-text:latest\")\n",
    "\n",
    "db = FAISS.from_documents(chunks,embedder)\n",
    "db"
   ]
  },
  {
   "cell_type": "code",
   "execution_count": 28,
   "id": "57de4b0f",
   "metadata": {},
   "outputs": [],
   "source": [
    "from langchain_ollama.llms import OllamaLLM\n",
    "llm = OllamaLLM(model=\"gemma2:2b\")\n",
    "\n",
    "\n",
    "from langchain.prompts import ChatPromptTemplate\n",
    "prompt=ChatPromptTemplate.from_template(\n",
    "    '''\n",
    "    you are an AI assistant with in depth knowledge about AI and large language model .\n",
    "    answer the query of user based on the knowledge given in the context if you don't know the answer don't make your own answer ,\n",
    "    just say you don;t know                          \n",
    "    context :{context}\n",
    "    input : {input}\n",
    "    '''\n",
    "    )"
   ]
  },
  {
   "cell_type": "code",
   "execution_count": 29,
   "id": "b200749a",
   "metadata": {},
   "outputs": [],
   "source": [
    "from langchain.chains.combine_documents import create_stuff_documents_chain\n",
    "\n",
    "document_chain=create_stuff_documents_chain(llm=llm,prompt=prompt)"
   ]
  },
  {
   "cell_type": "code",
   "execution_count": 30,
   "id": "cf5bdcda",
   "metadata": {},
   "outputs": [
    {
     "data": {
      "text/plain": [
       "VectorStoreRetriever(tags=['FAISS', 'OllamaEmbeddings'], vectorstore=<langchain_community.vectorstores.faiss.FAISS object at 0x000001A99B219D00>, search_kwargs={})"
      ]
     },
     "execution_count": 30,
     "metadata": {},
     "output_type": "execute_result"
    }
   ],
   "source": [
    "#An retriver is an interface for extraction usefull document from vector DB\n",
    "\n",
    "retriver = db.as_retriever()\n",
    "retriver\n"
   ]
  },
  {
   "cell_type": "code",
   "execution_count": 31,
   "id": "5306dada",
   "metadata": {},
   "outputs": [],
   "source": [
    "from langchain.chains import create_retrieval_chain\n",
    "\n",
    "retriver_chain = create_retrieval_chain(retriver , document_chain)"
   ]
  },
  {
   "cell_type": "code",
   "execution_count": 33,
   "id": "88040b24",
   "metadata": {},
   "outputs": [
    {
     "data": {
      "text/plain": [
       "'\"Attention Is All You Need\" discusses a specific application of self-attention called multi-head attention, but it doesn\\'t provide the exact definition of \"Attention Is All You Need\". \\n  \\nYou can find more information about the Attention Is All You Need paper by reading it. \\n\\nDo you have any other questions about this topic? \\n'"
      ]
     },
     "execution_count": 33,
     "metadata": {},
     "output_type": "execute_result"
    }
   ],
   "source": [
    "result = retriver_chain.invoke({\"input\":\"what excatly attention is all you need is about\"})\n",
    "\n",
    "result['answer']"
   ]
  },
  {
   "cell_type": "code",
   "execution_count": null,
   "id": "7dc3d6b3",
   "metadata": {},
   "outputs": [],
   "source": [
    "result['answer']"
   ]
  },
  {
   "cell_type": "code",
   "execution_count": null,
   "id": "697d3471",
   "metadata": {},
   "outputs": [],
   "source": []
  }
 ],
 "metadata": {
  "kernelspec": {
   "display_name": "venv",
   "language": "python",
   "name": "python3"
  },
  "language_info": {
   "codemirror_mode": {
    "name": "ipython",
    "version": 3
   },
   "file_extension": ".py",
   "mimetype": "text/x-python",
   "name": "python",
   "nbconvert_exporter": "python",
   "pygments_lexer": "ipython3",
   "version": "3.12.0"
  }
 },
 "nbformat": 4,
 "nbformat_minor": 5
}
